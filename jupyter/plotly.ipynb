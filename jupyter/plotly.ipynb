{
 "cells": [
  {
   "cell_type": "code",
   "execution_count": null,
   "metadata": {},
   "outputs": [],
   "source": [
    "# Minimalistic example using only dicts and arrays.\n",
    "# TODO: is it possible to make arbitrary plots with those,\n",
    "# e.g. how to use bar plots like this?\n",
    "from plotly.offline import init_notebook_mode, iplot\n",
    "init_notebook_mode(connected=True)\n",
    "xaxis = range(5)\n",
    "iplot({\n",
    "    'data': [\n",
    "        {\n",
    "            'x': xaxis,        \n",
    "            'y': [x*x for x in xaxis],\n",
    "            'name': 'Positive Name',\n",
    "        },\n",
    "        {\n",
    "            'x': xaxis,        \n",
    "            'y': [-x*x for x in xaxis],\n",
    "            'name': 'Negative Name',\n",
    "        }\n",
    "    ], \n",
    "    'layout': {\n",
    "        'title': 'Test Plot',\n",
    "        'xaxis': {'title': 'X Axis Title'},\n",
    "        'yaxis': {'title': 'Y Axis Title'},\n",
    "    }\n",
    "})"
   ]
  },
  {
   "cell_type": "code",
   "execution_count": null,
   "metadata": {},
   "outputs": [],
   "source": []
  }
 ],
 "metadata": {
  "kernelspec": {
   "display_name": "Python 2",
   "language": "python",
   "name": "python2"
  },
  "language_info": {
   "codemirror_mode": {
    "name": "ipython",
    "version": 2
   },
   "file_extension": ".py",
   "mimetype": "text/x-python",
   "name": "python",
   "nbconvert_exporter": "python",
   "pygments_lexer": "ipython2",
   "version": "2.7.12"
  }
 },
 "nbformat": 4,
 "nbformat_minor": 2
}
