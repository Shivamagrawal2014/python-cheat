{
 "cells": [
  {
   "cell_type": "code",
   "execution_count": 3,
   "metadata": {},
   "outputs": [
    {
     "data": {
      "text/html": [
       "<script>requirejs.config({paths: { 'plotly': ['https://cdn.plot.ly/plotly-latest.min']},});if(!window.Plotly) {{require(['plotly'],function(plotly) {window.Plotly=plotly;});}}</script>"
      ],
      "text/vnd.plotly.v1+html": [
       "<script>requirejs.config({paths: { 'plotly': ['https://cdn.plot.ly/plotly-latest.min']},});if(!window.Plotly) {{require(['plotly'],function(plotly) {window.Plotly=plotly;});}}</script>"
      ]
     },
     "metadata": {},
     "output_type": "display_data"
    },
    {
     "data": {
      "application/vnd.plotly.v1+json": {
       "data": [
        {
         "name": "Positive Name",
         "x": [
          0,
          1,
          2,
          3,
          4
         ],
         "y": [
          0,
          1,
          4,
          9,
          16
         ]
        },
        {
         "name": "Negative Name",
         "x": [
          0,
          1,
          2,
          3,
          4
         ],
         "y": [
          0,
          -1,
          -4,
          -9,
          -16
         ]
        }
       ],
       "layout": {
        "title": "Test Plot",
        "xaxis": {
         "title": "X Axis Title"
        },
        "yaxis": {
         "title": "Y Axis Title"
        }
       }
      },
      "text/html": [
       "<div id=\"b2230c25-831c-4a03-a9ac-54e8e0c85d13\" style=\"height: 525px; width: 100%;\" class=\"plotly-graph-div\"></div><script type=\"text/javascript\">require([\"plotly\"], function(Plotly) { window.PLOTLYENV=window.PLOTLYENV || {};window.PLOTLYENV.BASE_URL=\"https://plot.ly\";Plotly.newPlot(\"b2230c25-831c-4a03-a9ac-54e8e0c85d13\", [{\"y\": [0, 1, 4, 9, 16], \"x\": [0, 1, 2, 3, 4], \"name\": \"Positive Name\"}, {\"y\": [0, -1, -4, -9, -16], \"x\": [0, 1, 2, 3, 4], \"name\": \"Negative Name\"}], {\"title\": \"Test Plot\", \"xaxis\": {\"title\": \"X Axis Title\"}, \"yaxis\": {\"title\": \"Y Axis Title\"}}, {\"linkText\": \"Export to plot.ly\", \"showLink\": true})});</script>"
      ],
      "text/vnd.plotly.v1+html": [
       "<div id=\"b2230c25-831c-4a03-a9ac-54e8e0c85d13\" style=\"height: 525px; width: 100%;\" class=\"plotly-graph-div\"></div><script type=\"text/javascript\">require([\"plotly\"], function(Plotly) { window.PLOTLYENV=window.PLOTLYENV || {};window.PLOTLYENV.BASE_URL=\"https://plot.ly\";Plotly.newPlot(\"b2230c25-831c-4a03-a9ac-54e8e0c85d13\", [{\"y\": [0, 1, 4, 9, 16], \"x\": [0, 1, 2, 3, 4], \"name\": \"Positive Name\"}, {\"y\": [0, -1, -4, -9, -16], \"x\": [0, 1, 2, 3, 4], \"name\": \"Negative Name\"}], {\"title\": \"Test Plot\", \"xaxis\": {\"title\": \"X Axis Title\"}, \"yaxis\": {\"title\": \"Y Axis Title\"}}, {\"linkText\": \"Export to plot.ly\", \"showLink\": true})});</script>"
      ]
     },
     "metadata": {},
     "output_type": "display_data"
    }
   ],
   "source": [
    "from plotly.offline import init_notebook_mode, iplot\n",
    "init_notebook_mode(connected=True)\n",
    "xaxis = range(5)\n",
    "iplot({\n",
    "    'data': [\n",
    "        {\n",
    "            'x': xaxis,        \n",
    "            'y': [x*x for x in xaxis],\n",
    "            'name': 'Positive Name',\n",
    "        },\n",
    "        {\n",
    "            'x': xaxis,        \n",
    "            'y': [-x*x for x in xaxis],\n",
    "            'name': 'Negative Name',\n",
    "        }\n",
    "    ], \n",
    "    'layout': {\n",
    "        'title': 'Test Plot',\n",
    "        'xaxis': {'title': 'X Axis Title'},\n",
    "        'yaxis': {'title': 'Y Axis Title'},\n",
    "    }\n",
    "})"
   ]
  },
  {
   "cell_type": "code",
   "execution_count": null,
   "metadata": {},
   "outputs": [],
   "source": []
  }
 ],
 "metadata": {
  "kernelspec": {
   "display_name": "Python 2",
   "language": "python",
   "name": "python2"
  },
  "language_info": {
   "codemirror_mode": {
    "name": "ipython",
    "version": 2
   },
   "file_extension": ".py",
   "mimetype": "text/x-python",
   "name": "python",
   "nbconvert_exporter": "python",
   "pygments_lexer": "ipython2",
   "version": "2.7.12"
  }
 },
 "nbformat": 4,
 "nbformat_minor": 2
}
