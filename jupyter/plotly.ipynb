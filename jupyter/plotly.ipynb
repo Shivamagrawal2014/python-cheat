{
 "cells": [
  {
   "cell_type": "code",
   "execution_count": 16,
   "metadata": {},
   "outputs": [
    {
     "data": {
      "application/vnd.plotly.v1+json": {
       "data": [
        {
         "x": [
          0,
          1,
          2,
          3,
          4
         ],
         "y": [
          0,
          1,
          4,
          9,
          16
         ]
        }
       ],
       "layout": {
        "title": "Test Plot",
        "xaxis": {
         "title": "X Axis Title"
        },
        "yaxis": {
         "title": "Y Axis Title"
        }
       }
      },
      "text/html": [
       "<div id=\"1c8acad4-352f-402e-8023-3cd930e1b2b6\" style=\"height: 525px; width: 100%;\" class=\"plotly-graph-div\"></div><script type=\"text/javascript\">require([\"plotly\"], function(Plotly) { window.PLOTLYENV=window.PLOTLYENV || {};window.PLOTLYENV.BASE_URL=\"https://plot.ly\";Plotly.newPlot(\"1c8acad4-352f-402e-8023-3cd930e1b2b6\", [{\"y\": [0, 1, 4, 9, 16], \"x\": [0, 1, 2, 3, 4]}], {\"yaxis\": {\"title\": \"Y Axis Title\"}, \"xaxis\": {\"title\": \"X Axis Title\"}, \"title\": \"Test Plot\"}, {\"linkText\": \"Export to plot.ly\", \"showLink\": true})});</script>"
      ],
      "text/vnd.plotly.v1+html": [
       "<div id=\"1c8acad4-352f-402e-8023-3cd930e1b2b6\" style=\"height: 525px; width: 100%;\" class=\"plotly-graph-div\"></div><script type=\"text/javascript\">require([\"plotly\"], function(Plotly) { window.PLOTLYENV=window.PLOTLYENV || {};window.PLOTLYENV.BASE_URL=\"https://plot.ly\";Plotly.newPlot(\"1c8acad4-352f-402e-8023-3cd930e1b2b6\", [{\"y\": [0, 1, 4, 9, 16], \"x\": [0, 1, 2, 3, 4]}], {\"yaxis\": {\"title\": \"Y Axis Title\"}, \"xaxis\": {\"title\": \"X Axis Title\"}, \"title\": \"Test Plot\"}, {\"linkText\": \"Export to plot.ly\", \"showLink\": true})});</script>"
      ]
     },
     "metadata": {},
     "output_type": "display_data"
    }
   ],
   "source": [
    "import plotly.offline as offline\n",
    "\n",
    "offline.iplot({\n",
    "    'data': [{'x': [0, 1, 2, 3, 4], 'y': [0, 1, 4, 9, 16]}], \n",
    "    'layout': {\n",
    "        'xaxis': {'title': 'X Axis Title'},\n",
    "        'yaxis': {'title': 'Y Axis Title'},\n",
    "        'title': 'Test Plot'\n",
    "    }\n",
    "})"
   ]
  },
  {
   "cell_type": "code",
   "execution_count": null,
   "metadata": {},
   "outputs": [],
   "source": []
  }
 ],
 "metadata": {
  "kernelspec": {
   "display_name": "Python 2",
   "language": "python",
   "name": "python2"
  },
  "language_info": {
   "codemirror_mode": {
    "name": "ipython",
    "version": 2
   },
   "file_extension": ".py",
   "mimetype": "text/x-python",
   "name": "python",
   "nbconvert_exporter": "python",
   "pygments_lexer": "ipython2",
   "version": "2.7.12"
  }
 },
 "nbformat": 4,
 "nbformat_minor": 2
}
